{
 "cells": [
  {
   "cell_type": "code",
   "execution_count": 1,
   "id": "ab5db53f",
   "metadata": {},
   "outputs": [],
   "source": [
    "import numpy as np"
   ]
  },
  {
   "cell_type": "code",
   "execution_count": null,
   "id": "5e7301db",
   "metadata": {},
   "outputs": [],
   "source": []
  },
  {
   "cell_type": "code",
   "execution_count": 2,
   "id": "642f91f6",
   "metadata": {},
   "outputs": [
    {
     "name": "stdout",
     "output_type": "stream",
     "text": [
      "<class 'numpy.ndarray'>\n",
      "(2, 3)\n"
     ]
    }
   ],
   "source": [
    "array1 = np.array([[1,2,3],[2,2,3]])\n",
    "print(type(array1))\n",
    "print(array1.shape)"
   ]
  },
  {
   "cell_type": "code",
   "execution_count": 3,
   "id": "113984a0",
   "metadata": {},
   "outputs": [
    {
     "name": "stdout",
     "output_type": "stream",
     "text": [
      "2\n"
     ]
    }
   ],
   "source": [
    "print(array1.ndim)"
   ]
  },
  {
   "cell_type": "code",
   "execution_count": 4,
   "id": "fbb5f716",
   "metadata": {},
   "outputs": [
    {
     "name": "stdout",
     "output_type": "stream",
     "text": [
      "[[1 2 3]\n",
      " [2 2 3]] int64\n"
     ]
    }
   ],
   "source": [
    "print(array1, array1.dtype)"
   ]
  },
  {
   "cell_type": "code",
   "execution_count": 5,
   "id": "30f98e8c",
   "metadata": {},
   "outputs": [
    {
     "name": "stdout",
     "output_type": "stream",
     "text": [
      "<U21 float64\n"
     ]
    }
   ],
   "source": [
    "array2 = np.array([1,2,'test'])\n",
    "array3 = np.array([1,2,3.0])\n",
    "print(array2.dtype, array3.dtype)"
   ]
  },
  {
   "cell_type": "code",
   "execution_count": 6,
   "id": "e6bad620",
   "metadata": {},
   "outputs": [
    {
     "name": "stdout",
     "output_type": "stream",
     "text": [
      "[1 2 3] int64\n"
     ]
    }
   ],
   "source": [
    "array_float = np.array([1.1,2.1,3.1])\n",
    "array_float2 = array_float.astype('int64')\n",
    "print(array_float2, array_float2.dtype)"
   ]
  },
  {
   "cell_type": "code",
   "execution_count": 7,
   "id": "9282f70e",
   "metadata": {},
   "outputs": [
    {
     "name": "stdout",
     "output_type": "stream",
     "text": [
      "[[1 1]\n",
      " [1 1]\n",
      " [1 1]] int32\n"
     ]
    }
   ],
   "source": [
    "one_array = np.ones((3,2), dtype='int32')\n",
    "print(one_array, one_array.dtype)"
   ]
  },
  {
   "cell_type": "code",
   "execution_count": 8,
   "id": "7b707a0f",
   "metadata": {},
   "outputs": [
    {
     "name": "stdout",
     "output_type": "stream",
     "text": [
      "[0 1 2 3 4 5 6 7]\n",
      "[[[0 1]\n",
      "  [2 3]]\n",
      "\n",
      " [[4 5]\n",
      "  [6 7]]]\n",
      "[[0]\n",
      " [1]\n",
      " [2]\n",
      " [3]\n",
      " [4]\n",
      " [5]\n",
      " [6]\n",
      " [7]]\n",
      "[[0]\n",
      " [1]\n",
      " [2]\n",
      " [3]\n",
      " [4]\n",
      " [5]\n",
      " [6]\n",
      " [7]]\n"
     ]
    }
   ],
   "source": [
    "array1 = np.arange(8)\n",
    "print(array1)\n",
    "array2 = array1.reshape(2,2,2)\n",
    "print(array2)\n",
    "array3 = array2.reshape(-1,1)\n",
    "print(array3)\n",
    "array4 = array3.reshape(-1,1)\n",
    "print(array4)"
   ]
  },
  {
   "cell_type": "code",
   "execution_count": 9,
   "id": "dea6ef47",
   "metadata": {},
   "outputs": [
    {
     "name": "stdout",
     "output_type": "stream",
     "text": [
      "9\n"
     ]
    }
   ],
   "source": [
    "array1 = np.arange(1,10)\n",
    "a2 = array1.reshape(3,3)\n",
    "print(a2[2,2])"
   ]
  },
  {
   "cell_type": "code",
   "execution_count": 10,
   "id": "1ca08f59",
   "metadata": {},
   "outputs": [
    {
     "name": "stdout",
     "output_type": "stream",
     "text": [
      "[1 2 3]\n"
     ]
    }
   ],
   "source": [
    "print(a2[0])"
   ]
  },
  {
   "cell_type": "code",
   "execution_count": 11,
   "id": "b99d3525",
   "metadata": {},
   "outputs": [
    {
     "name": "stdout",
     "output_type": "stream",
     "text": [
      "[6 7 8 9]\n"
     ]
    }
   ],
   "source": [
    "print(array1[array1>5])"
   ]
  },
  {
   "cell_type": "code",
   "execution_count": 12,
   "id": "1693942d",
   "metadata": {},
   "outputs": [
    {
     "name": "stdout",
     "output_type": "stream",
     "text": [
      "[[ 8 12]\n",
      " [ 7  1]]\n",
      "[[ 7  1]\n",
      " [ 8 12]]\n",
      "[[ 8 12]\n",
      " [ 1  7]]\n"
     ]
    }
   ],
   "source": [
    "a1 = np.array([[8,12], [7,1]])\n",
    "print(a1)\n",
    "print(np.sort(a1, axis=0))\n",
    "print(np.sort(a1, axis=1))"
   ]
  },
  {
   "cell_type": "code",
   "execution_count": 13,
   "id": "556faabd",
   "metadata": {},
   "outputs": [
    {
     "name": "stdout",
     "output_type": "stream",
     "text": [
      "[2 3 0 1]\n"
     ]
    }
   ],
   "source": [
    "a1 = np.array([3,1,9,4])\n",
    "si = np.argsort(a1)[::-1]\n",
    "print(si)\n"
   ]
  },
  {
   "cell_type": "code",
   "execution_count": 14,
   "id": "c269484a",
   "metadata": {},
   "outputs": [
    {
     "name": "stdout",
     "output_type": "stream",
     "text": [
      "[[ 32  40]\n",
      " [ 76 104]]\n"
     ]
    }
   ],
   "source": [
    "a = np.array([[1,2,3],[1,4,9]])\n",
    "b = np.array([[6,3],[4,5],[6,9]])\n",
    "print(np.dot(a,b))"
   ]
  },
  {
   "cell_type": "code",
   "execution_count": 15,
   "id": "c3de7818",
   "metadata": {},
   "outputs": [
    {
     "name": "stdout",
     "output_type": "stream",
     "text": [
      "[[1 2 3]\n",
      " [1 4 9]]\n",
      "[[1 1]\n",
      " [2 4]\n",
      " [3 9]]\n"
     ]
    }
   ],
   "source": [
    "print(a)\n",
    "print(np.transpose(a))"
   ]
  }
 ],
 "metadata": {
  "jupytext": {
   "formats": "ipynb,auto:light"
  },
  "kernelspec": {
   "display_name": "Python 3 (ipykernel)",
   "language": "python",
   "name": "python3"
  },
  "language_info": {
   "codemirror_mode": {
    "name": "ipython",
    "version": 3
   },
   "file_extension": ".py",
   "mimetype": "text/x-python",
   "name": "python",
   "nbconvert_exporter": "python",
   "pygments_lexer": "ipython3",
   "version": "3.9.12"
  }
 },
 "nbformat": 4,
 "nbformat_minor": 5
}
